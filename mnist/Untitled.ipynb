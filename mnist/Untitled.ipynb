{
 "cells": [
  {
   "cell_type": "code",
   "execution_count": 58,
   "metadata": {},
   "outputs": [],
   "source": [
    "import os\n",
    "import struct\n",
    "import numpy as np\n",
    "\n",
    "def load_mnist(path, kind='train'):\n",
    "    \"\"\"Load MNIST data from `path`\"\"\"\n",
    "    labels_path = os.path.join(path,\n",
    "                               '%s-labels.idx1-ubyte'\n",
    "                               % kind)\n",
    "    images_path = os.path.join(path,\n",
    "                               '%s-images.idx3-ubyte'\n",
    "                               % kind)\n",
    "    with open(labels_path, 'rb') as lbpath:\n",
    "        magic, n = struct.unpack('>II',\n",
    "                                 lbpath.read(8))\n",
    "        labels = np.fromfile(lbpath,\n",
    "                             dtype=np.uint8)\n",
    "\n",
    "    with open(images_path, 'rb') as imgpath:\n",
    "        magic, num, rows, cols = struct.unpack('>IIII',\n",
    "                                               imgpath.read(16))\n",
    "        images = np.fromfile(imgpath,\n",
    "                             dtype=np.uint8).reshape(len(labels), 784)\n",
    "        \n",
    "        \n",
    "    Labels= np.zeros((10,labels.shape[0]))\n",
    "    for i in range(0,labels.shape[0]):\n",
    "        idx = labels[i]\n",
    "        Labels[idx][i] = 1\n",
    "    \n",
    "    \n",
    "    Images = images.T\n",
    "    return Images, Labels"
   ]
  },
  {
   "cell_type": "code",
   "execution_count": 60,
   "metadata": {},
   "outputs": [
    {
     "name": "stdout",
     "output_type": "stream",
     "text": [
      "(784, 60000)\n"
     ]
    }
   ],
   "source": [
    "trainData ,trainLabels = load_mnist('mnist/', kind='t10k')\n",
    "print(trainData.shape)"
   ]
  },
  {
   "cell_type": "code",
   "execution_count": 61,
   "metadata": {
    "scrolled": true
   },
   "outputs": [
    {
     "name": "stdout",
     "output_type": "stream",
     "text": [
      "(784, 10000)\n"
     ]
    }
   ],
   "source": [
    "testData ,testLabels = load_mnist('mnist/',kind='t10k')\n",
    "print(testData.shape)"
   ]
  },
  {
   "cell_type": "code",
   "execution_count": 33,
   "metadata": {},
   "outputs": [
    {
     "name": "stdout",
     "output_type": "stream",
     "text": [
      "60000\n"
     ]
    }
   ],
   "source": [
    "print(trainLabels1.shape[0])"
   ]
  },
  {
   "cell_type": "code",
   "execution_count": null,
   "metadata": {},
   "outputs": [],
   "source": [
    "from Layer import Layer\n",
    "from Dataset import Dataset\n",
    "from Setting import Setting\n",
    "from Model import Model\n",
    "from scipy.io import loadmat\n",
    "from  Adam import Adam\n",
    "from  ForwardNetwork import ForwardNetwork\n",
    "from SGD import SGD\n",
    "from  Momentum import Momentum\n",
    "import math,time\n",
    "#import Utility as ut \n",
    "import UtilityJit as ut \n",
    "import os\n",
    "import struct\n",
    "import numpy as np\n",
    "import matplotlib.pyplot as plt\n",
    "\n",
    "def load_mnist(path, kind='train'):\n",
    "    \"\"\"Load MNIST data from `path`\"\"\"\n",
    "    labels_path = os.path.join(path,\n",
    "                               '%s-labels.idx1-ubyte'\n",
    "                               % kind)\n",
    "    images_path = os.path.join(path,\n",
    "                               '%s-images.idx3-ubyte'\n",
    "                               % kind)\n",
    "    with open(labels_path, 'rb') as lbpath:\n",
    "        magic, n = struct.unpack('>II',\n",
    "                                 lbpath.read(8))\n",
    "        labels = np.fromfile(lbpath,\n",
    "                             dtype=np.uint8)\n",
    "\n",
    "    with open(images_path, 'rb') as imgpath:\n",
    "        magic, num, rows, cols = struct.unpack('>IIII',\n",
    "                                               imgpath.read(16))\n",
    "        images = np.fromfile(imgpath,\n",
    "                             dtype=np.uint8).reshape(len(labels), 784)\n",
    "        \n",
    "        \n",
    "    Labels= np.zeros((10,labels.shape[0]))\n",
    "    for i in range(0,labels.shape[0]):\n",
    "        idx = labels[i]\n",
    "        Labels[idx][i] = 1\n",
    "    \n",
    "    \n",
    "    Images = images.T\n",
    "    return Images, Labels\n",
    "\n",
    "\n",
    "trainData ,trainLabels = load_mnist('mnist/')\n",
    "testData ,testLabels = load_mnist('mnist/',kind='t10k')\n",
    "print(\"12\")\n",
    "#m = loadmat(\"./mnist_small_matlab.mat\")\n",
    "#trainData, trainLabels = m['trainData'], m['trainLabels']\n",
    "#testData, testLabels = m['testData'], m['testLabels']\n",
    "train_size = 60000\n",
    "X_all = trainData\n",
    "X_train = X_all[:, :50000]\n",
    "Y_train = trainLabels[:, :50000]\n",
    "val_size = 10000\n",
    "X_validate = X_all[:, 10000:]\n",
    "Y_validate = trainLabels[:, 10000:]\n",
    "test_size = 10000\n",
    "X_test = testData\n",
    "Y_test = testLabels\n",
    "print(trainLabels.shape)\n",
    "data = Dataset(trainSet=[X_train, Y_train], validateSet=[X_validate, Y_validate], testSet=[X_test, Y_test])\n",
    "data2 = data\n",
    "para = Setting()\n",
    "para.loadSetting('./testSetting.json')\n",
    "para2=para\n",
    "model = ForwardNetwork(data, para)\n",
    "#model = SGD(data, para2)\n",
    "#model = Momentum(data, para)\n",
    "#model= Adam(data, para)\n",
    "model.train()\n",
    "\n",
    "#print(\"Accuracy  = {:<4.2f}\".format(model_ForwardNetwork.calculateAccuracy(model_ForwardNetwork.trainResult, model_ForwardNetwork.trainLabel)))\n",
    "#print(\"Recall    = {}\".format(model_ForwardNetwork.calculateRecall(model_ForwardNetwork.trainResult, model_ForwardNetwork.trainLabel)))\n",
    "#print(\"Precision = {}\".format(model_ForwardNetwork.calculatePrecision(model_ForwardNetwork.trainResult, model_ForwardNetwork.trainLabel)))\n",
    "#print(\"F1Score   = {}\".format(model_ForwardNetwork.calculateF1Score(model_ForwardNetwork.trainResult, model_ForwardNetwork.trainLabel)))\n",
    "#print(\"Accuracy  = {:<4.2f}\".format(model_SGD.calculateAccuracy(model_SGD.trainResult, model_SGD.trainLabel)))\n",
    "print(\"Accuracy  = {:<4.2f}\".format(model.calculateAccuracy(model.trainResult, model.trainLabel)))\n",
    "print(\"Recall    = {}\".format(model.calculateRecall(model.trainResult, model.trainLabel)))\n",
    "print(\"Precision = {}\".format(model.calculatePrecision(model.trainResult, model.trainLabel)))\n",
    "print(\"F1Score   = {}\".format(model.calculateF1Score(model.trainResult, model.trainLabel)))\n",
    "\n",
    "\n",
    "plt.grid(axis='y',linestyle='-.')\n",
    "plt.plot(np.arange(model.epoch),model.calculateAccuracy(model.trainOutputs, model.trainLabel),label=\"train\",c=\"b\")\n",
    "plt.plot(np.arange(model.epoch),model.calculateAccuracy(model.testOutputs, model.testLabel),label=\"test\",c=\"r\")\n",
    "plt.plot(np.arange(model.epoch),model.calculateAccuracy(model.validateOutputs, model.validateLabel),label=\"valid\",c=\"y\")\n",
    "plt.title(\"Accuracy\")\n",
    "plt.legend()\n",
    "plt.show()\n"
   ]
  }
 ],
 "metadata": {
  "kernelspec": {
   "display_name": "Python 3",
   "language": "python",
   "name": "python3"
  },
  "language_info": {
   "codemirror_mode": {
    "name": "ipython",
    "version": 3
   },
   "file_extension": ".py",
   "mimetype": "text/x-python",
   "name": "python",
   "nbconvert_exporter": "python",
   "pygments_lexer": "ipython3",
   "version": "3.8.3"
  }
 },
 "nbformat": 4,
 "nbformat_minor": 4
}
